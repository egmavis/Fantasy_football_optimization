{
 "cells": [
  {
   "cell_type": "code",
   "execution_count": 5,
   "metadata": {},
   "outputs": [],
   "source": [
    "import numpy as np\n",
    "import pandas as pd\n",
    "from ortools.sat.python import cp_model\n",
    "\n",
    "df = pd.read_csv(\"data/players.csv\")"
   ]
  },
  {
   "cell_type": "code",
   "execution_count": 10,
   "metadata": {},
   "outputs": [
    {
     "name": "stdout",
     "output_type": "stream",
     "text": [
      "Player 71: Cost = $4.3m, Position = MID\n",
      "Player 730: Cost = $4.5m, Position = MID\n",
      "Player 499: Cost = $5.2m, Position = MID\n",
      "Player 465: Cost = $4.4m, Position = DEF\n",
      "Player 22: Cost = $5.3m, Position = MID\n",
      "Player 109: Cost = $4.8m, Position = DEF\n",
      "Player 86: Cost = $5.4m, Position = MID\n",
      "Player 198: Cost = $4.8m, Position = DEF\n",
      "Player 728: Cost = $4.0m, Position = DEF\n",
      "Player 619: Cost = $4.0m, Position = DEF\n",
      "Player 120: Cost = $4.4m, Position = MID\n",
      "Player 679: Cost = $4.4m, Position = DEF\n",
      "Player 193: Cost = $4.9m, Position = FWD\n",
      "Player 214: Cost = $4.3m, Position = DEF\n",
      "Player 251: Cost = $4.4m, Position = MID\n",
      "Total cost: $69.1m\n",
      "Total points per game: 18.1\n"
     ]
    }
   ],
   "source": [
    "# what is the cost of selecting a random subset of 15 players?\n",
    "total_cost = 0\n",
    "total_points_per_game = 0\n",
    "\n",
    "for i in np.random.choice(df[\"id\"], 15):\n",
    "    cost = df[df[\"id\"] == i ].now_cost.values[0] / 10\n",
    "    points_per_game = df[df[\"id\"] == i].points_per_game.values[0]\n",
    "    position = df[df[\"id\"] == i].position.values[0]\n",
    "    print(f\"Player {i}: Cost = ${cost}m, Position = {position}\")\n",
    "    total_cost+=cost\n",
    "    total_points_per_game+=points_per_game\n",
    "\n",
    "print(f\"Total cost: ${total_cost}m\")\n",
    "print(f\"Total points per game: {total_points_per_game}\")"
   ]
  },
  {
   "cell_type": "markdown",
   "metadata": {},
   "source": [
    "#### Set the constraints\n",
    "1. We need 2 goalkeepers, 5 defenders, 5 midfielders and 3 forwards\n",
    "2. We cannot spend over $100m\n",
    "3. We can pick no more than 3 players from the same team\n",
    "4. Each player can only be picked once"
   ]
  },
  {
   "cell_type": "markdown",
   "metadata": {},
   "source": [
    "Constraint #1"
   ]
  },
  {
   "cell_type": "code",
   "execution_count": 12,
   "metadata": {},
   "outputs": [],
   "source": [
    "model = cp_model.CpModel()\n",
    "\n",
    "# Define the number of players we want to select in each position\n",
    "POSITION_MAP = {\n",
    "    \"Goalkeeper\": {\"code\": \"GKP\", \"count\": 2},\n",
    "    \"Defender\": {\"code\": \"DEF\", \"count\": 5},\n",
    "    \"Midfielder\": {\"code\": \"MID\", \"count\": 5},\n",
    "    \"Forward\": {\"code\": \"FWD\", \"count\": 3}\n",
    "}\n",
    "\n",
    "decision_variables = {}"
   ]
  },
  {
   "cell_type": "code",
   "execution_count": 13,
   "metadata": {},
   "outputs": [],
   "source": [
    "# add constraints to each position\n",
    "for position, details in POSITION_MAP.items():\n",
    "    \n",
    "    # find all eligible players, i.e. players who play the desired position\n",
    "    players_in_position = list(df[df[\"position\"] == details[\"code\"]].id.values)\n",
    "\n",
    "    # fetch the number of players we're allowed to pick in this position\n",
    "    player_count = details[\"count\"]\n",
    "\n",
    "    # create decision variables for each of the players in that position\n",
    "    player_variables = {i: model.NewBoolVar(f\"player{i}\") for i in players_in_position}\n",
    "    decision_variables.update(player_variables) # add decision variable to global dict\n",
    "\n",
    "    # add the constraint: per position, only allowed the specified count of players\n",
    "    model.Add(sum(player_variables.values()) == player_count)"
   ]
  },
  {
   "cell_type": "markdown",
   "metadata": {},
   "source": [
    "Constraint #2"
   ]
  },
  {
   "cell_type": "code",
   "execution_count": null,
   "metadata": {},
   "outputs": [],
   "source": []
  }
 ],
 "metadata": {
  "kernelspec": {
   "display_name": ".venv",
   "language": "python",
   "name": "python3"
  },
  "language_info": {
   "codemirror_mode": {
    "name": "ipython",
    "version": 3
   },
   "file_extension": ".py",
   "mimetype": "text/x-python",
   "name": "python",
   "nbconvert_exporter": "python",
   "pygments_lexer": "ipython3",
   "version": "3.12.2"
  },
  "orig_nbformat": 4
 },
 "nbformat": 4,
 "nbformat_minor": 2
}
