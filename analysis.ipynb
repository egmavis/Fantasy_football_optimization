{
 "cells": [
  {
   "cell_type": "code",
   "execution_count": 1,
   "metadata": {},
   "outputs": [],
   "source": [
    "import numpy as np\n",
    "import pandas as pd\n",
    "from ortools.sat.python import cp_model\n",
    "\n",
    "df = pd.read_csv(\"data/players.csv\")"
   ]
  },
  {
   "cell_type": "markdown",
   "metadata": {},
   "source": [
    "#### Set the constraints\n",
    "1. We need 2 goalkeepers, 5 defenders, 5 midfielders and 3 forwards\n",
    "2. We cannot spend over $100m\n",
    "3. We can pick no more than 3 players from the same team"
   ]
  },
  {
   "cell_type": "markdown",
   "metadata": {},
   "source": [
    "Constraint #1"
   ]
  },
  {
   "cell_type": "code",
   "execution_count": 2,
   "metadata": {},
   "outputs": [],
   "source": [
    "model = cp_model.CpModel()\n",
    "\n",
    "# Define the number of players we want to select in each position\n",
    "POSITION_MAP = {\n",
    "    \"Goalkeeper\": {\"code\": \"GKP\", \"count\": 2},\n",
    "    \"Defender\": {\"code\": \"DEF\", \"count\": 5},\n",
    "    \"Midfielder\": {\"code\": \"MID\", \"count\": 5},\n",
    "    \"Forward\": {\"code\": \"FWD\", \"count\": 3}\n",
    "}\n",
    "\n",
    "decision_variables = {}"
   ]
  },
  {
   "cell_type": "code",
   "execution_count": 3,
   "metadata": {},
   "outputs": [],
   "source": [
    "# add constraints to each position\n",
    "for position, details in POSITION_MAP.items():\n",
    "    \n",
    "    # find all eligible players, i.e. players who play the desired position\n",
    "    players_in_position = list(df[df[\"position\"] == details[\"code\"]].id.values)\n",
    "\n",
    "    # fetch the number of players we're allowed to pick in this position\n",
    "    player_count = details[\"count\"]\n",
    "\n",
    "    # create decision variables for each of the players in that position\n",
    "    player_variables = {i: model.NewBoolVar(f\"player{i}\") for i in players_in_position}\n",
    "    decision_variables.update(player_variables) # add decision variable to global dict\n",
    "\n",
    "    # add the constraint: per position, only allowed the specified count of players\n",
    "    model.Add(sum(player_variables.values()) == player_count)"
   ]
  },
  {
   "cell_type": "markdown",
   "metadata": {},
   "source": [
    "Constraint #2"
   ]
  },
  {
   "cell_type": "code",
   "execution_count": 4,
   "metadata": {},
   "outputs": [
    {
     "data": {
      "text/plain": [
       "<ortools.sat.python.cp_model.Constraint at 0x12442d550>"
      ]
     },
     "execution_count": 4,
     "metadata": {},
     "output_type": "execute_result"
    }
   ],
   "source": [
    "BUDGET = 1000\n",
    "player_costs = {player: df[df[\"id\"] == player][\"now_cost\"].values[0] for player in df[\"id\"]}\n",
    "model.Add(sum(var * player_costs[i] for i, var in decision_variables.items()) <= BUDGET)"
   ]
  },
  {
   "cell_type": "markdown",
   "metadata": {},
   "source": [
    "Constraint #3"
   ]
  },
  {
   "cell_type": "code",
   "execution_count": 5,
   "metadata": {},
   "outputs": [],
   "source": [
    "MAX_PLAYERS_PER_TEAM = 3\n",
    "teams = df[\"team\"].unique()\n",
    "for team in teams:\n",
    "    eligible_players = df[df[\"team\"] == team].id.values\n",
    "    model.Add(sum(decision_variables[i] for i in eligible_players) <= MAX_PLAYERS_PER_TEAM)"
   ]
  },
  {
   "cell_type": "markdown",
   "metadata": {},
   "source": [
    "#### Add objective function: maximize \"points_per_game\""
   ]
  },
  {
   "cell_type": "code",
   "execution_count": 6,
   "metadata": {},
   "outputs": [],
   "source": [
    "# for each player, collect their average \"points_per_game\"\n",
    "player_points_per_game = {player: df[df[\"id\"] == player][\"points_per_game\"].values[0] for player in decision_variables.keys()}\n",
    "\n",
    "# add another decision variable: the total \"points_per_game\" of the selected players\n",
    "# this will be the sum of (points_per_game)*(1 or 0) for each player depending on whether the player is selected\n",
    "total_points = sum(var * player_points_per_game[i] for i, var in decision_variables.items())\n",
    "\n",
    "# intruct model to maximize this value\n",
    "model.Maximize(total_points)"
   ]
  },
  {
   "cell_type": "markdown",
   "metadata": {},
   "source": [
    "#### Solve"
   ]
  },
  {
   "cell_type": "code",
   "execution_count": 7,
   "metadata": {},
   "outputs": [],
   "source": [
    "solver = cp_model.CpSolver()\n",
    "status = solver.Solve(model)"
   ]
  },
  {
   "cell_type": "code",
   "execution_count": 8,
   "metadata": {},
   "outputs": [],
   "source": [
    "def show_solution(status):\n",
    "    \"\"\"\n",
    "    Print out the solution if any exists\n",
    "    \"\"\"\n",
    "    if status == cp_model.OPTIMAL:\n",
    "        print(\"Optimal solution found. Players selected:\\n\")\n",
    "        total_cost = 0\n",
    "        total_points_per_game = 0\n",
    "\n",
    "        players = {\n",
    "            \"GKP\": [],\n",
    "            \"DEF\": [],\n",
    "            \"MID\": [],\n",
    "            \"FWD\": []\n",
    "        }\n",
    "        for i, var in decision_variables.items():\n",
    "            if solver.Value(var) == 1:\n",
    "                player_position = df[df[\"id\"] == i].position.values[0]\n",
    "                players[player_position].append(i)\n",
    "        \n",
    "        for position, ids in players.items():\n",
    "            print(f\"\\nPlayers in {position}:\")\n",
    "            for i in ids:\n",
    "                player_name = df[df[\"id\"] == i][\"name\"].values[0]\n",
    "                player_cost = df[df[\"id\"] == i][\"now_cost\"].values[0]\n",
    "                player_team = df[df[\"id\"] == i][\"team\"].values[0]\n",
    "                player_points_per_game = df[df[\"id\"] == i][\"points_per_game\"].values[0]\n",
    "                print(f\"{player_name}: {player_team}, ${player_cost}, {player_points_per_game}\")\n",
    "                total_cost += player_cost\n",
    "                total_points_per_game += player_points_per_game\n",
    "            \n",
    "        print(\"\\nTotal cost: \", total_cost)\n",
    "        print(\"\\nTotal points per game: \", total_points_per_game)\n",
    "    \n",
    "    else:\n",
    "        print(\"No solution found.\")"
   ]
  },
  {
   "cell_type": "code",
   "execution_count": 9,
   "metadata": {},
   "outputs": [
    {
     "name": "stdout",
     "output_type": "stream",
     "text": [
      "Optimal solution found. Players selected:\n",
      "\n",
      "\n",
      "Players in GKP:\n",
      "Lukasz Fabianski: West Ham, $42, 4.0\n",
      "Daniel Bentley: Wolves, $39, 5.3\n",
      "\n",
      "Players in DEF:\n",
      "Seamus Coleman: Everton, $44, 6.0\n",
      "Vitalii Mykolenko: Everton, $46, 4.8\n",
      "Trent Alexander-Arnold: Liverpool, $83, 5.6\n",
      "Konstantinos Tsimikas: Liverpool, $48, 4.5\n",
      "Sven Botman: Newcastle, $45, 4.6\n",
      "\n",
      "Players in MID:\n",
      "Bryan Mbeumo: Brentford, $68, 5.8\n",
      "Solly March: Brighton, $61, 5.6\n",
      "André Tavares Gomes: Everton, $44, 7.0\n",
      "Son Heung-min: Spurs, $98, 6.8\n",
      "Jarrod Bowen: West Ham, $78, 6.0\n",
      "\n",
      "Players in FWD:\n",
      "Ollie Watkins: Aston Villa, $88, 6.1\n",
      "Christopher Nkunku: Chelsea, $73, 7.0\n",
      "Erling Haaland: Man City, $139, 7.5\n",
      "\n",
      "Total cost:  996\n",
      "\n",
      "Total points per game:  86.6\n"
     ]
    }
   ],
   "source": [
    "show_solution(status)"
   ]
  },
  {
   "cell_type": "code",
   "execution_count": null,
   "metadata": {},
   "outputs": [],
   "source": []
  }
 ],
 "metadata": {
  "kernelspec": {
   "display_name": ".venv",
   "language": "python",
   "name": "python3"
  },
  "language_info": {
   "codemirror_mode": {
    "name": "ipython",
    "version": 3
   },
   "file_extension": ".py",
   "mimetype": "text/x-python",
   "name": "python",
   "nbconvert_exporter": "python",
   "pygments_lexer": "ipython3",
   "version": "3.12.2"
  },
  "orig_nbformat": 4
 },
 "nbformat": 4,
 "nbformat_minor": 2
}
